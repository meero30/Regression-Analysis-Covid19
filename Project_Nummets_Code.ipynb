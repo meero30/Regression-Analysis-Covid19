{
 "cells": [
  {
   "cell_type": "markdown",
   "metadata": {},
   "source": [
    "# Analysis of Covid Cases and Vaccine in the Philippines using Regression Techniques\n"
   ]
  },
  {
   "cell_type": "markdown",
   "metadata": {},
   "source": [
    "#### by Group 2: Chua, Hernandez, Orga, Ramos\n"
   ]
  },
  {
   "cell_type": "markdown",
   "metadata": {},
   "source": [
    "## 1. Importing modules and Excel Sheet"
   ]
  },
  {
   "cell_type": "code",
   "execution_count": null,
   "metadata": {},
   "outputs": [],
   "source": [
    "import pandas as pd\n",
    "import numpy as np\n",
    "import datetime as dt\n",
    "import os\n",
    "import warnings\n",
    "from collections import UserDict\n",
    "from glob import glob\n",
    "import matplotlib.pyplot as plt\n",
    "from IPython.display import Image\n",
    "%matplotlib inline\n",
    "import matplotlib.dates as mpl_dates\n",
    "import math\n",
    "\n",
    "\n"
   ]
  },
  {
   "cell_type": "code",
   "execution_count": null,
   "metadata": {},
   "outputs": [],
   "source": [
    "df_cases = pd.read_excel(\"./Nummets Project.xlsx\" , sheet_name=\"LinearRegression\")"
   ]
  },
  {
   "cell_type": "code",
   "execution_count": null,
   "metadata": {},
   "outputs": [],
   "source": [
    "df_cases.shape"
   ]
  },
  {
   "cell_type": "code",
   "execution_count": null,
   "metadata": {},
   "outputs": [],
   "source": [
    "df_cases"
   ]
  },
  {
   "cell_type": "markdown",
   "metadata": {},
   "source": [
    "## 2. Data Cleaning"
   ]
  },
  {
   "cell_type": "code",
   "execution_count": null,
   "metadata": {
    "scrolled": true
   },
   "outputs": [],
   "source": [
    "#df_cases[\"Numerical Mapping\"] = \"2022-01-\" + df_cases[\"Months Numerical Mapping\"].astype(int).astype(str)\n",
    "df_cases[\"Months Numerical Mapping\"] = df_cases[\"Months Numerical Mapping\"].astype(int).astype(str) \n",
    "df_cases"
   ]
  },
  {
   "cell_type": "code",
   "execution_count": null,
   "metadata": {},
   "outputs": [],
   "source": [
    "df_cases[\"Numerical Mapping\"] = \"null\"\n",
    "for index in df_cases.index:\n",
    "    value = df_cases[\"Months Numerical Mapping\"][index]\n",
    "    if len(value) == 1:\n",
    "\n",
    "        df_cases[\"Numerical Mapping\"][index] = \"2022-01-0\" + value\n",
    "\n",
    "    else: \n",
    "        df_cases[\"Numerical Mapping\"][index] = \"2022-01-\" + value\n",
    "\n",
    "df_cases"
   ]
  },
  {
   "cell_type": "code",
   "execution_count": null,
   "metadata": {},
   "outputs": [],
   "source": [
    "df_cases[\"Numerical Mapping\"]"
   ]
  },
  {
   "cell_type": "code",
   "execution_count": null,
   "metadata": {},
   "outputs": [],
   "source": [
    "df_cases[\"Date\"] =   pd.to_datetime(df_cases[\"Numerical Mapping\"]) "
   ]
  },
  {
   "cell_type": "code",
   "execution_count": null,
   "metadata": {},
   "outputs": [],
   "source": [
    "df_cases[\"Date\"]"
   ]
  },
  {
   "cell_type": "code",
   "execution_count": null,
   "metadata": {},
   "outputs": [],
   "source": [
    "df_cases"
   ]
  },
  {
   "cell_type": "code",
   "execution_count": null,
   "metadata": {},
   "outputs": [],
   "source": [
    "df_cases\n",
    "df_cases.drop([\"Months\", \"Numerical Mapping\"], axis = 1, inplace = True) "
   ]
  },
  {
   "cell_type": "code",
   "execution_count": null,
   "metadata": {},
   "outputs": [],
   "source": [
    "df_cases[\"Months Numerical Mapping\"] = df_cases[\"Months Numerical Mapping\"].astype(int)\n",
    "df_cases"
   ]
  },
  {
   "cell_type": "markdown",
   "metadata": {},
   "source": [
    "## 3. Data Visualization"
   ]
  },
  {
   "cell_type": "code",
   "execution_count": null,
   "metadata": {},
   "outputs": [],
   "source": [
    "# This program was taken from ALEKSANDR MOROZOV123 in the Kagel Website\n",
    "# https://www.kaggle.com/code/aleksandrmorozov123/time-series-forecasting-with-python/notebook\n",
    "# Modified at 15/12/2022 for the project purposes of Group 2\n",
    "\n",
    "pd.options.display.float_format = \"{:, .2f}\".format\n",
    "np.set_printoptions (precision = 2)\n",
    "warnings.filterwarnings (\"ignore\")\n",
    "\n",
    "# import lag_plot function\n",
    "# Lag plots are used to check if a time series is random: random data should not exhibit any structure in the lag plot\n",
    "from pandas.plotting import lag_plot\n",
    "sns.set ()\n",
    "\n",
    "# pass the lag argument and plot the values\n",
    "# when lag = 1 the plot is essentially data [:-1] vs. data [1:]\n",
    "\n",
    "\n",
    "# Creates the Lag Plot for the column Covid Cases 2022\n",
    "print(\"Covid Cases Lag Plot\")\n",
    "lag_plot (df_cases [\"Covid Cases 2022\"], lag = 1)\n"
   ]
  },
  {
   "cell_type": "code",
   "execution_count": null,
   "metadata": {},
   "outputs": [],
   "source": [
    "# by increasing the lag, we are checking for the seasonality of the data\n",
    "print(\"Covid Cases Lag Plot\")\n",
    "lag_plot (df_cases [\"Covid Cases 2022\"], lag = 3)"
   ]
  },
  {
   "cell_type": "code",
   "execution_count": null,
   "metadata": {},
   "outputs": [],
   "source": [
    "# Creates the Lag Plot for the column Vax Doses 2022\n",
    "print(\"Vaccine Doses Lag Plot\")\n",
    "lag_plot (df_cases [\"Vax Doses\"])"
   ]
  },
  {
   "cell_type": "code",
   "execution_count": null,
   "metadata": {},
   "outputs": [],
   "source": [
    "# Code taken from Geek for Geeks\n",
    "# https://www.geeksforgeeks.org/linear-regression-python-implementation/\n",
    "# Modified at 15/12/2022 for project purposes of Group 2\n",
    "\n",
    "def estimate_coef(x, y):\n",
    "    # number of observations/points\n",
    "    n = np.size(x)\n",
    "  \n",
    "    # mean of x and y vector\n",
    "    m_x = np.mean(x)\n",
    "    m_y = np.mean(y)\n",
    "  \n",
    "    # calculating cross-deviation and deviation about x\n",
    "    SS_xy = np.sum(y*x) - n*m_y*m_x\n",
    "    SS_xx = np.sum(x*x) - n*m_x*m_x\n",
    "  \n",
    "    # calculating regression coefficients\n",
    "    b_1 = SS_xy / SS_xx\n",
    "    b_0 = m_y - b_1*m_x\n",
    "  \n",
    "    return (b_0, b_1)\n",
    "  \n",
    "def plot_regression_line(x, y, b):\n",
    "    # plotting the actual points as scatter plot\n",
    "    plt.scatter(x, y, color = \"m\",\n",
    "               marker = \"o\", s = 30)\n",
    "  \n",
    "    # predicted response vector\n",
    "    y_pred = b[0] + b[1]*x\n",
    "  \n",
    "    # plotting the regression line\n",
    "    plt.plot(x, y_pred, color = \"g\")\n",
    "  \n",
    "    # putting labels\n",
    "    plt.xlabel('x')\n",
    "    plt.ylabel('y')\n",
    "  \n",
    "    # function to show plot\n",
    "    plt.show()\n",
    "  \n",
    "def main():\n",
    "    # observations / data\n",
    "    Months = df_cases[\"Months Numerical Mapping\"]\n",
    "    covid_cases = df_cases[\"Covid Cases 2022\"]\n",
    "    vax_doses = df_cases[\"Vax Doses\"]\n",
    "    \n",
    "    \n",
    "    # estimating coefficients\n",
    "    b = estimate_coef(Months, covid_cases)\n",
    "    print(\"Estimated coefficients:\\nb_0 = {}  \\\n",
    "          \\nb_1 = {}\".format(b[0], b[1]))\n",
    "  \n",
    "    # plotting regression line\n",
    "    print(\"Linear Regression Plot of Covid Cases\")\n",
    "    plot_regression_line(Months, covid_cases, b)\n",
    "    \n",
    "  \n",
    "    # estimating coefficients\n",
    "    b = estimate_coef(Months, vax_doses)\n",
    "    print(\"Estimated coefficients:\\nb_0 = {}  \\\n",
    "          \\nb_1 = {}\".format(b[0], b[1]))\n",
    "  \n",
    "    # plotting regression line\n",
    "    print(\"Linear Regression Plot of Vaccine Doses\")\n",
    "    plot_regression_line(Months, vax_doses, b)\n",
    "  \n",
    "if __name__ == \"__main__\":\n",
    "    main()"
   ]
  },
  {
   "cell_type": "markdown",
   "metadata": {},
   "source": [
    "#### Observations\n",
    "1. We can tell from lag plot that Covid Cases are random, thus it's linear regression unreliable.\n",
    "2. The Vaccine doses column are not random due to a linear trend spotted from the lag plot. When fed into a linear regression model, it has a downward trend. "
   ]
  }
 ],
 "metadata": {
  "kernelspec": {
   "display_name": "Python 3",
   "language": "python",
   "name": "python3"
  },
  "language_info": {
   "codemirror_mode": {
    "name": "ipython",
    "version": 3
   },
   "file_extension": ".py",
   "mimetype": "text/x-python",
   "name": "python",
   "nbconvert_exporter": "python",
   "pygments_lexer": "ipython3",
   "version": "3.8.5"
  }
 },
 "nbformat": 4,
 "nbformat_minor": 5
}
